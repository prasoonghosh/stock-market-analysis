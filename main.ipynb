{
 "cells": [
  {
   "attachments": {},
   "cell_type": "markdown",
   "metadata": {},
   "source": [
    "Importing all the libraries"
   ]
  },
  {
   "cell_type": "code",
   "execution_count": 24,
   "metadata": {},
   "outputs": [
    {
     "ename": "ImportError",
     "evalue": "cannot import name 'ImageTk' from 'PIL' (/usr/lib/python3/dist-packages/PIL/__init__.py)",
     "output_type": "error",
     "traceback": [
      "\u001b[0;31m---------------------------------------------------------------------------\u001b[0m",
      "\u001b[0;31mImportError\u001b[0m                               Traceback (most recent call last)",
      "Cell \u001b[0;32mIn[24], line 8\u001b[0m\n\u001b[1;32m      6\u001b[0m \u001b[39mimport\u001b[39;00m \u001b[39mtkinter\u001b[39;00m \u001b[39mas\u001b[39;00m \u001b[39mtk\u001b[39;00m\n\u001b[1;32m      7\u001b[0m \u001b[39mimport\u001b[39;00m \u001b[39mtkinter\u001b[39;00m \u001b[39mas\u001b[39;00m \u001b[39mttk\u001b[39;00m\n\u001b[0;32m----> 8\u001b[0m \u001b[39mfrom\u001b[39;00m \u001b[39mmatplotlib\u001b[39;00m\u001b[39m.\u001b[39;00m\u001b[39mbackends\u001b[39;00m\u001b[39m.\u001b[39;00m\u001b[39mbackend_tkagg\u001b[39;00m \u001b[39mimport\u001b[39;00m FigureCanvasTkAgg\n\u001b[1;32m      9\u001b[0m \u001b[39mfrom\u001b[39;00m \u001b[39mtkinter\u001b[39;00m \u001b[39mimport\u001b[39;00m filedialog\n\u001b[1;32m     10\u001b[0m \u001b[39mimport\u001b[39;00m \u001b[39mmatplotlib\u001b[39;00m\u001b[39m.\u001b[39;00m\u001b[39mpyplot\u001b[39;00m \u001b[39mas\u001b[39;00m \u001b[39mplt\u001b[39;00m\n",
      "File \u001b[0;32m~/.local/lib/python3.10/site-packages/matplotlib/backends/backend_tkagg.py:1\u001b[0m\n\u001b[0;32m----> 1\u001b[0m \u001b[39mfrom\u001b[39;00m \u001b[39m.\u001b[39;00m \u001b[39mimport\u001b[39;00m _backend_tk\n\u001b[1;32m      2\u001b[0m \u001b[39mfrom\u001b[39;00m \u001b[39m.\u001b[39;00m\u001b[39mbackend_agg\u001b[39;00m \u001b[39mimport\u001b[39;00m FigureCanvasAgg\n\u001b[1;32m      3\u001b[0m \u001b[39mfrom\u001b[39;00m \u001b[39m.\u001b[39;00m\u001b[39m_backend_tk\u001b[39;00m \u001b[39mimport\u001b[39;00m _BackendTk, FigureCanvasTk\n",
      "File \u001b[0;32m~/.local/lib/python3.10/site-packages/matplotlib/backends/_backend_tk.py:14\u001b[0m\n\u001b[1;32m     11\u001b[0m \u001b[39mfrom\u001b[39;00m \u001b[39mtkinter\u001b[39;00m\u001b[39m.\u001b[39;00m\u001b[39msimpledialog\u001b[39;00m \u001b[39mimport\u001b[39;00m SimpleDialog\n\u001b[1;32m     13\u001b[0m \u001b[39mimport\u001b[39;00m \u001b[39mnumpy\u001b[39;00m \u001b[39mas\u001b[39;00m \u001b[39mnp\u001b[39;00m\n\u001b[0;32m---> 14\u001b[0m \u001b[39mfrom\u001b[39;00m \u001b[39mPIL\u001b[39;00m \u001b[39mimport\u001b[39;00m Image, ImageTk\n\u001b[1;32m     16\u001b[0m \u001b[39mimport\u001b[39;00m \u001b[39mmatplotlib\u001b[39;00m \u001b[39mas\u001b[39;00m \u001b[39mmpl\u001b[39;00m\n\u001b[1;32m     17\u001b[0m \u001b[39mfrom\u001b[39;00m \u001b[39mmatplotlib\u001b[39;00m \u001b[39mimport\u001b[39;00m _api, backend_tools, cbook, _c_internal_utils\n",
      "\u001b[0;31mImportError\u001b[0m: cannot import name 'ImageTk' from 'PIL' (/usr/lib/python3/dist-packages/PIL/__init__.py)"
     ]
    }
   ],
   "source": [
    "import pandas as pd\n",
    "import pandas_datareader as pdr\n",
    "import seaborn as sns\n",
    "import yfinance as yf\n",
    "import sys\n",
    "import tkinter as tk\n",
    "import tkinter as ttk\n",
    "from matplotlib.backends.backend_tkagg import FigureCanvasTkAgg\n",
    "from tkinter import filedialog\n",
    "import matplotlib.pyplot as plt\n",
    "from sklearn.model_selection import train_test_split\n",
    "from sklearn.preprocessing import StandardScaler\n",
    "from sklearn.ensemble import RandomForestClassifier\n",
    "from sklearn.metrics import accuracy_score, f1_score, confusion_matrix"
   ]
  },
  {
   "attachments": {},
   "cell_type": "markdown",
   "metadata": {},
   "source": [
    "Acquiring, cleaning and preprocessing data"
   ]
  },
  {
   "cell_type": "code",
   "execution_count": 20,
   "metadata": {},
   "outputs": [
    {
     "name": "stdout",
     "output_type": "stream",
     "text": [
      "[*********************100%***********************]  1 of 1 completed\n"
     ]
    }
   ],
   "source": [
    "import pandas as pd\n",
    "def acquire_and_clean_data(ticker, start_date, end_date):\n",
    "    \"\"\"\n",
    "    Acquires and cleans stock data from Yahoo Finance for a specified ticker symbol and date range\n",
    "    \n",
    "    Parameters:\n",
    "    ticker (str): The stock ticker symbol\n",
    "    start_date (str): The start date in the format 'YYYY-MM-DD'\n",
    "    end_date (str): The end date in the format 'YYYY-MM-DD'\n",
    "    \n",
    "    Returns:\n",
    "    pd.DataFrame: Cleaned stock data\n",
    "    \"\"\"\n",
    "    # Download the stock data\n",
    "    df = yf.download(ticker, start=start_date, end=end_date)\n",
    "    \n",
    "    # Clean and preprocess the data\n",
    "    df = df.dropna() # remove missing values\n",
    "    df = df.drop(columns=['Adj Close']) # remove unnecessary columns\n",
    "    df = df[df['Volume'] != 0] # remove rows with 0 volume\n",
    "    df['Returns'] = df['Close'].pct_change() # calculate daily returns\n",
    "    df = df.dropna() # remove missing values again\n",
    "    \n",
    "    return df\n",
    "\n",
    "def submit_data():\n",
    "    \"\"\"\n",
    "    Handles the user's submit action and saves the data to a CSV file\n",
    "    \"\"\"\n",
    "    ticker = ticker_entry.get()\n",
    "    start_date = start_date_entry.get()\n",
    "    end_date = end_date_entry.get()\n",
    "    df = acquire_and_clean_data(ticker, start_date, end_date)\n",
    "    df.to_csv(f\"{ticker}_{start_date}_{end_date}.csv\", index=False)\n",
    "    root.destroy()\n",
    "\n",
    "# Create the GUI\n",
    "root = tk.Tk()\n",
    "root.title(\"Stock Market Analysis\")\n",
    "\n",
    "# Add the ticker label and entry\n",
    "ticker_label = ttk.Label(root, text=\"Ticker Symbol:\")\n",
    "ticker_label.grid(row=0, column=0, sticky=\"W\", padx=10, pady=10)\n",
    "ticker_entry = ttk.Entry(root)\n",
    "ticker_entry.grid(row=0, column=1, sticky=\"W\", padx=10, pady=10)\n",
    "\n",
    "# Add the start date label and entry\n",
    "start_date_label = ttk.Label(root, text=\"Start Date (YYYY-MM-DD):\")\n",
    "start_date_label.grid(row=1, column=0, sticky=\"W\", padx=10, pady=10)\n",
    "start_date_entry = ttk.Entry(root)\n",
    "start_date_entry.grid(row=1, column=1, sticky=\"W\", padx=10, pady=10)\n",
    "\n",
    "# Add the end date label and entry\n",
    "end_date_label = ttk.Label(root, text=\"End Date (YYYY-MM-DD):\")\n",
    "end_date_label.grid(row=2, column=0, sticky=\"W\", padx=10, pady=10)\n",
    "end_date_entry = ttk.Entry(root)\n",
    "end_date_entry.grid(row=2, column=1, sticky=\"W\", padx=10, pady=10)\n",
    "\n",
    "# Add the submit button\n",
    "submit_button = ttk.Button(root, text=\"Submit\", command=submit_data)\n",
    "submit_button.grid(row=3, column=0, columnspan=2, pady=10)\n",
    "\n",
    "# Start the GUI\n",
    "root.mainloop()"
   ]
  },
  {
   "attachments": {},
   "cell_type": "markdown",
   "metadata": {},
   "source": [
    "Code for Exploratory Data Analysis"
   ]
  },
  {
   "cell_type": "code",
   "execution_count": null,
   "metadata": {},
   "outputs": [
    {
     "name": "stdout",
     "output_type": "stream",
     "text": [
      "Data split into training and testing sets with test size of 0.2\n"
     ]
    }
   ],
   "source": [
    "from sklearn.model_selection import train_test_split\n",
    "\n",
    "def split_data(df, test_size=0.2):\n",
    "    \"\"\"\n",
    "    Split the data into training and testing sets\n",
    "    \"\"\"\n",
    "    X = df.drop(columns='Returns')\n",
    "    y = df['Returns']\n",
    "    X_train, X_test, y_train, y_test = train_test_split(X, y, test_size=test_size, shuffle=False)\n",
    "    print(f\"Data split into training and testing sets with test size of {test_size}\")\n",
    "    return X_train, X_test, y_train, y_test\n",
    "\n",
    "X_train, X_test, y_train, y_test = split_data(df_norm)\n"
   ]
  }
 ],
 "metadata": {
  "kernelspec": {
   "display_name": "Python 3",
   "language": "python",
   "name": "python3"
  },
  "language_info": {
   "codemirror_mode": {
    "name": "ipython",
    "version": 3
   },
   "file_extension": ".py",
   "mimetype": "text/x-python",
   "name": "python",
   "nbconvert_exporter": "python",
   "pygments_lexer": "ipython3",
   "version": "3.10.6"
  },
  "orig_nbformat": 4,
  "vscode": {
   "interpreter": {
    "hash": "916dbcbb3f70747c44a77c7bcd40155683ae19c65e1c03b4aa3499c5328201f1"
   }
  }
 },
 "nbformat": 4,
 "nbformat_minor": 2
}
