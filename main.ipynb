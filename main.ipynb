{
 "cells": [
  {
   "attachments": {},
   "cell_type": "markdown",
   "metadata": {},
   "source": [
    "# Importing all the libraries"
   ]
  },
  {
   "cell_type": "code",
   "execution_count": 60,
   "metadata": {},
   "outputs": [],
   "source": [
    "import pandas as pd\n",
    "import numpy as np\n",
    "import pandas_datareader as pdr\n",
    "import seaborn as sns\n",
    "import yfinance as yf\n",
    "import sys\n",
    "import tkinter as tk\n",
    "import tkinter as ttk\n",
    "import warnings\n",
    "from matplotlib.backends.backend_tkagg import FigureCanvasTkAgg\n",
    "from tkinter import filedialog\n",
    "import matplotlib.pyplot as plt\n",
    "from sklearn.model_selection import train_test_split, GridSearchCV,cross_val_score, KFold, TimeSeriesSplit\n",
    "from sklearn.preprocessing import StandardScaler\n",
    "from sklearn.ensemble import RandomForestClassifier\n",
    "from sklearn.metrics import accuracy_score, f1_score, confusion_matrix\n",
    "from sklearn.linear_model import LinearRegression, LassoCV, RidgeCV\n",
    "from sklearn.tree import DecisionTreeRegressor\n",
    "from sklearn.ensemble import RandomForestRegressor, GradientBoostingRegressor\n",
    "from sklearn.metrics import mean_squared_error, r2_score, mean_absolute_error\n",
    "from sklearn.neighbors import KNeighborsClassifier\n",
    "from sklearn.svm import SVR\n",
    "from sklearn.linear_model import Ridge, Lasso"
   ]
  },
  {
   "attachments": {},
   "cell_type": "markdown",
   "metadata": {},
   "source": [
    "# Acquiring, cleaning and preprocessing data\n",
    "This code creates the GUI with 3 text entry fields (ticker symbol, start date, and end date) and a submit button. When the user clicks the submit button, the submit_data function is called, which retrieves the user's inputs and calls the acquire_and_clean_data function to retrieve the stock data. The cleaned stock data is then saved to a CSV file using the to_csv method from Pandas. Finally, the GUI is closed using root.destroy()."
   ]
  },
  {
   "cell_type": "code",
   "execution_count": 29,
   "metadata": {},
   "outputs": [
    {
     "name": "stdout",
     "output_type": "stream",
     "text": [
      "[*********************100%***********************]  1 of 1 completed\n"
     ]
    }
   ],
   "source": [
    "def acquire_and_clean_data(ticker, start_date, end_date):\n",
    "    \"\"\"\n",
    "    Acquires and cleans stock data from Yahoo Finance for a specified ticker symbol and date range\n",
    "    \n",
    "    Parameters:\n",
    "    ticker (str): The stock ticker symbol\n",
    "    start_date (str): The start date in the format 'YYYY-MM-DD'\n",
    "    end_date (str): The end date in the format 'YYYY-MM-DD'\n",
    "    \n",
    "    Returns:\n",
    "    pd.DataFrame: Cleaned stock data\n",
    "    \"\"\"\n",
    "    # Download the stock data\n",
    "    df = yf.download(ticker, start=start_date, end=end_date)\n",
    "    \n",
    "    # Clean and preprocess the data\n",
    "    df = df.dropna() # remove missing values\n",
    "    df = df.drop(columns=['Adj Close']) # remove unnecessary columns\n",
    "    df = df[df['Volume'] != 0] # remove rows with 0 volume\n",
    "    df['Returns'] = df['Close'].pct_change() # calculate daily returns\n",
    "    df = df.dropna() # remove missing values again\n",
    "    \n",
    "    return df\n",
    "\n",
    "def submit_data():\n",
    "    \"\"\"\n",
    "    Handles the user's submit action and saves the data to a CSV file\n",
    "    \"\"\"\n",
    "    ticker = ticker_var.get()\n",
    "    start_date = start_date_entry.get()\n",
    "    end_date = end_date_entry.get()\n",
    "    df = acquire_and_clean_data(ticker, start_date, end_date)\n",
    "    df.to_csv(\"stock_data.csv\", index=False, mode='w')\n",
    "    root.destroy()\n",
    "\n",
    "# Create the GUI\n",
    "root = tk.Tk()\n",
    "root.title(\"Stock Market Analysis\")\n",
    "\n",
    "# Add the ticker label and dropdown\n",
    "ticker_label = ttk.Label(root, text=\"Stock Ticker:\")\n",
    "ticker_label.grid(row=0, column=0, sticky=\"W\", padx=10, pady=10)\n",
    "ticker_var = tk.StringVar(value='AAPL')\n",
    "\n",
    "# Set the list of available tickers\n",
    "tickers = ['AAPL', 'GOOG', 'MSFT', 'AMZN']\n",
    "\n",
    "ticker_dropdown = ttk.OptionMenu(root, ticker_var, *tickers)\n",
    "ticker_dropdown.grid(row=0, column=1, sticky=\"W\", padx=10, pady=10)\n",
    "\n",
    "# Add the start date label and entry\n",
    "start_date_label = ttk.Label(root, text=\"Start Date (YYYY-MM-DD):\")\n",
    "start_date_label.grid(row=1, column=0, sticky=\"W\", padx=10, pady=10)\n",
    "start_date_entry = ttk.Entry(root)\n",
    "start_date_entry.grid(row=1, column=1, sticky=\"W\", padx=10, pady=10)\n",
    "\n",
    "# Add the end date label and entry\n",
    "end_date_label = ttk.Label(root, text=\"End Date (YYYY-MM-DD):\")\n",
    "end_date_label.grid(row=2, column=0, sticky=\"W\", padx=10, pady=10)\n",
    "end_date_entry = ttk.Entry(root)\n",
    "end_date_entry.grid(row=2, column=1, sticky=\"W\", padx=10, pady=10)\n",
    "\n",
    "# Add the submit button\n",
    "submit_button = ttk.Button(root, text=\"Submit\", command=submit_data)\n",
    "submit_button.grid(row=3, column=0, columnspan=2, pady=10)\n",
    "\n",
    "# Run the GUI\n",
    "root.mainloop()\n",
    "\n"
   ]
  },
  {
   "attachments": {},
   "cell_type": "markdown",
   "metadata": {},
   "source": [
    "# Code for Exploratory Data Analysis\n",
    "This code will create a GUI that allows the user to select the type of graph they want to use for the EDA of the stock data. When the user selects a plot type and clicks the \"Submit\" button, the code will read the stock data from a CSV file, plot the data using the specified plot type, and close the GUI."
   ]
  },
  {
   "cell_type": "code",
   "execution_count": 30,
   "metadata": {},
   "outputs": [
    {
     "data": {
      "image/png": "[encoded data removed]",
      "text/plain": [
       "<Figure size 640x480 with 1 Axes>"
      ]
     },
     "metadata": {},
     "output_type": "display_data"
    }
   ],
   "source": [
    "# Load the data from stock_data.csv into a DataFrame\n",
    "df = pd.read_csv('stock_data.csv')\n",
    "df = df[['Open', 'High', 'Low', 'Close', 'Volume', 'Returns']]\n",
    "\n",
    "# Function to perform EDA and generate the selected chart\n",
    "def perform_eda():\n",
    "    # Get the selected chart type from the GUI\n",
    "    chart_type = chart_type_var.get()\n",
    "    \n",
    "    # Perform EDA on the data\n",
    "    if chart_type == 'Line Plot':\n",
    "        df.plot(kind='line')\n",
    "        plt.title('Line Plot of Stock Price')\n",
    "        plt.xlabel('Index')\n",
    "        plt.ylabel('Stock Price')\n",
    "    elif chart_type == 'Bar Plot':\n",
    "        df.plot(kind='bar')\n",
    "        plt.title('Bar Plot of Stock Price')\n",
    "        plt.xlabel('Index')\n",
    "        plt.ylabel('Stock Price')\n",
    "    elif chart_type == 'Histogram':\n",
    "        df['Close'].plot(kind='hist')\n",
    "        plt.title('Histogram of Stock Price')\n",
    "        plt.xlabel('Stock Price')\n",
    "        plt.ylabel('Frequency')\n",
    "    elif chart_type == 'Scatter Plot':\n",
    "        df.plot(kind='scatter', x='Volume', y='Returns')\n",
    "        plt.title('Scatter Plot of Stock Returns vs Volume')\n",
    "        plt.xlabel('Volume')\n",
    "        plt.ylabel('Returns')\n",
    "    else:\n",
    "        print('Invalid Chart Type')\n",
    "        \n",
    "    # Show the plot\n",
    "    plt.show()\n",
    "    \n",
    "# Create the GUI\n",
    "root = tk.Tk()\n",
    "root.title(\"Stock Market Analysis\")\n",
    "\n",
    "# Add the label for chart type\n",
    "chart_type_label = ttk.Label(root, text=\"Select Chart Type:\")\n",
    "chart_type_label.grid(row=0, column=0, sticky=\"W\", padx=10, pady=10)\n",
    "\n",
    "# Add the dropdown for chart type\n",
    "chart_type_var = tk.StringVar()\n",
    "chart_type_var.set(\"Line Plot\")\n",
    "chart_type_dropdown = ttk.OptionMenu(root, chart_type_var, \"Line Plot\", \"Bar Plot\", \"Histogram\", \"Scatter Plot\")\n",
    "chart_type_dropdown.grid(row=0, column=1, sticky=\"W\", padx=10, pady=10)\n",
    "\n",
    "# Add the submit button\n",
    "submit_button = ttk.Button(root, text=\"Submit\", command=perform_eda)\n",
    "submit_button.grid(row=1, column=0, columnspan=2, pady=10)\n",
    "\n",
    "# Run the GUI\n",
    "root.mainloop()\n"
   ]
  },
  {
   "attachments": {},
   "cell_type": "markdown",
   "metadata": {},
   "source": [
    "# Feature Engineering\n",
    "This code encapsulates the feature engineering logic in a separate function, feature_engineering(df), that takes in a DataFrame and returns a modified DataFrame with the added features. The main script loads the data from the stock_data.csv file, selects the relevant columns, and performs the feature engineering. The modified data is then saved to a new CSV file named stock_data_feature_engineered.csv. This approach allows for easier maintenance and scalability as more features can be added to the feature_engineering(df) function without affecting the rest of the code."
   ]
  },
  {
   "cell_type": "code",
   "execution_count": 31,
   "metadata": {},
   "outputs": [],
   "source": [
    "def feature_engineering(df):\n",
    "    # Add a new feature 'Price Range' which is the difference between the high and low prices\n",
    "    df['Price Range'] = df['High'] - df['Low']\n",
    "    \n",
    "    # Add a new feature 'Price Movement' which is the difference between the closing price and the opening price\n",
    "    df['Price Movement'] = df['Close'] - df['Open']\n",
    "    \n",
    "    # Add a new feature 'Volume Weighted Stock Price' which is the product of the closing price and volume divided by the sum of volume\n",
    "    df['Volume Weighted Stock Price'] = (df['Close'] * df['Volume']).sum() / df['Volume'].sum()\n",
    "    \n",
    "    return df\n",
    "\n",
    "# Load the data from stock_data.csv into a DataFrame\n",
    "df = pd.read_csv('stock_data.csv')\n",
    "df = df[['Open', 'High', 'Low', 'Close', 'Volume', 'Returns']]\n",
    "\n",
    "# Perform feature engineering on the data\n",
    "df = feature_engineering(df)\n",
    "\n",
    "# Save the modified data to a new CSV file\n",
    "df.to_csv('stock_data_feature_engineered.csv', index=False)\n"
   ]
  },
  {
   "attachments": {},
   "cell_type": "markdown",
   "metadata": {},
   "source": [
    "# Model Selection\n",
    "This code encapsulates the model selection logic in a separate function, select_model(df, model_type), that takes in a DataFrame and a string representing the model type, and returns the trained model. The main script loads the data from the stock_data_feature_engineered.csv file and prompts the user to choose the type of model they want to perform. The selected model is then trained on the data and its performance is evaluated using the Mean Squared Error (MSE) metric. This approach allows for easier maintenance and scalability as more models can be added to the select_model(df, model_type) function without affecting the rest of the code."
   ]
  },
  {
   "cell_type": "code",
   "execution_count": 54,
   "metadata": {},
   "outputs": [
    {
     "name": "stdout",
     "output_type": "stream",
     "text": [
      "The Model Selection has been successfully\n"
     ]
    }
   ],
   "source": [
    "# Function to perform model selection and training based on user input\n",
    "def model_selection(df, model_type):\n",
    "    # Prepare the features and target variable\n",
    "    X = df.drop('Returns', axis=1)\n",
    "    y = df['Returns']\n",
    "    \n",
    "    # Perform model selection based on user input\n",
    "    if model_type == 'Linear Regression':\n",
    "        model = LinearRegression()\n",
    "    elif model_type == 'Decision Tree Regression':\n",
    "        model = DecisionTreeRegressor()\n",
    "    elif model_type == 'Support Vector Regression':\n",
    "        model = SVR()\n",
    "    elif model_type == 'Random Forest Regression':\n",
    "        model = RandomForestRegressor()\n",
    "    else:\n",
    "        print('Invalid model type')\n",
    "        return\n",
    "    \n",
    "    # Train the selected model on the data\n",
    "    model.fit(X, y)\n",
    "    \n",
    "    return model\n",
    "\n",
    "# Load the data from stock_data_feature_engineered.csv into a DataFrame\n",
    "df = pd.read_csv('stock_data_feature_engineered.csv')\n",
    "\n",
    "# Create the GUI for user input\n",
    "root = tk.Tk()\n",
    "root.title(\"Stock Market Analysis\")\n",
    "\n",
    "model_type_var = tk.StringVar()\n",
    "model_types = ['Linear Regression', 'Decision Tree Regression', 'Support Vector Regression', 'Random Forest Regression']\n",
    "\n",
    "def submit():\n",
    "    model = model_selection(df, model_type_var.get())\n",
    "    root.destroy()\n",
    "\n",
    "model_type_label = tk.Label(root, text=\"Select Model Type:\")\n",
    "model_type_dropdown = tk.OptionMenu(root, model_type_var, *model_types)\n",
    "submit_button = tk.Button(root, text=\"Submit\", command=submit)\n",
    "\n",
    "model_type_label.pack()\n",
    "model_type_dropdown.pack()\n",
    "submit_button.pack()\n",
    "\n",
    "root.mainloop()\n",
    "\n",
    "print(\"The Model Selection has been successfully\")\n"
   ]
  },
  {
   "attachments": {},
   "cell_type": "markdown",
   "metadata": {},
   "source": [
    "# Model Training\n",
    "This code uses the pandas and numpy libraries to load the feature-engineered data into a DataFrame and perform calculations. It also imports several regression models from the sklearn library and trains them on the training data using the fit method. The performance of each model is evaluated on the test data using the mean squared error (MSE), mean absolute error (MAE), and R2 score, which are calculated using the mean_squared_error, mean_absolute_error, and r2_score functions from the sklearn.metrics module, respectively. The code loops through each model in the list of models and outputs its performance metrics, allowing the user to compare the performance of different models."
   ]
  },
  {
   "cell_type": "code",
   "execution_count": 65,
   "metadata": {},
   "outputs": [
    {
     "name": "stdout",
     "output_type": "stream",
     "text": [
      "Fitting 5 folds for each of 9 candidates, totalling 45 fits\n",
      "Best Hyperparameters: {'max_depth': 10, 'n_estimators': 300}\n",
      "Training Score: 0.8690246276581816\n",
      "Testing Score: 0.40946789571894027\n"
     ]
    }
   ],
   "source": [
    "# Load the data from stock_data_feature_engineered.csv into a DataFrame\n",
    "df = pd.read_csv('stock_data_feature_engineered.csv')\n",
    "\n",
    "# Prepare the features and target variable\n",
    "X = df.drop('Returns', axis=1)\n",
    "y = df['Returns']\n",
    "\n",
    "# Split the data into training and testing sets\n",
    "X_train, X_test, y_train, y_test = train_test_split(X, y, test_size=0.2, random_state=42)\n",
    "\n",
    "# Define the model\n",
    "model = RandomForestRegressor(random_state=42)\n",
    "\n",
    "# Define the hyperparameters to be searched\n",
    "params = {'n_estimators': [100, 200, 300],\n",
    "          'max_depth': [10, 20, 30]}\n",
    "\n",
    "# Perform grid search to find the best hyperparameters for the model\n",
    "grid_search = GridSearchCV(model, params, cv=5, n_jobs=-1, verbose=1)\n",
    "grid_search.fit(X_train, y_train)\n",
    "\n",
    "# Get the best model from the grid search\n",
    "best_model = grid_search.best_estimator_\n",
    "\n",
    "# Evaluate the best model on the testing data\n",
    "train_score = best_model.score(X_train, y_train)\n",
    "test_score = best_model.score(X_test, y_test)\n",
    "\n",
    "# Print the best hyperparameters and the training and testing scores\n",
    "print(f'Best Hyperparameters: {grid_search.best_params_}')\n",
    "print(f'Training Score: {train_score}')\n",
    "print(f'Testing Score: {test_score}')\n"
   ]
  },
  {
   "attachments": {},
   "cell_type": "markdown",
   "metadata": {},
   "source": [
    "# Model Validation\n",
    "This code uses GridSearchCV to perform a grid search over different hyperparameters for the model. The perform_grid_search function returns the best hyperparameters and accuracy. The validate_model function then fits the model with the best hyperparameters and displays a scatter plot of the true values vs the predicted values."
   ]
  },
  {
   "cell_type": "code",
   "execution_count": 70,
   "metadata": {},
   "outputs": [
    {
     "name": "stdout",
     "output_type": "stream",
     "text": [
      "Fitting 5 folds for each of 25 candidates, totalling 125 fits\n",
      "Train Score: 0.8688006491770679\n",
      "Test Score: 0.41152705580310867\n",
      "Mean Squared Error: 0.00016088860593607403\n",
      "Mean Absolute Error: 0.007328741000519355\n",
      "Cross-Validation Score: 0.5440710700812422\n"
     ]
    },
    {
     "data": {
      "image/png": "[encoded data removed]",
      "text/plain": [
       "<Figure size 640x480 with 1 Axes>"
      ]
     },
     "metadata": {},
     "output_type": "display_data"
    }
   ],
   "source": [
    "# Load the data from stock_data_feature_engineered.csv into a DataFrame\n",
    "df = pd.read_csv('stock_data_feature_engineered.csv')\n",
    "\n",
    "# Prepare the features and target variable\n",
    "X = df.drop('Returns', axis=1)\n",
    "y = df['Returns']\n",
    "\n",
    "# Split the data into training and testing sets\n",
    "X_train, X_test, y_train, y_test = train_test_split(X, y, test_size=0.2, random_state=42)\n",
    "\n",
    "# Define the model\n",
    "model = RandomForestRegressor(random_state=42)\n",
    "\n",
    "# Define the hyperparameters to be searched\n",
    "params = {'n_estimators': [100, 200, 300, 400, 500],\n",
    "          'max_depth': [10, 20, 30, 40, 50]}\n",
    "\n",
    "# Perform grid search to find the best hyperparameters for the model\n",
    "grid_search = GridSearchCV(model, params, cv=5, n_jobs=-1, verbose=1)\n",
    "grid_search.fit(X_train, y_train)\n",
    "\n",
    "# Get the best model from the grid search\n",
    "best_model = grid_search.best_estimator_\n",
    "\n",
    "# Evaluate the best model on the testing data\n",
    "train_score = best_model.score(X_train, y_train)\n",
    "test_score = best_model.score(X_test, y_test)\n",
    "\n",
    "# Calculate the mean squared error and mean absolute error on the testing data\n",
    "y_pred = best_model.predict(X_test)\n",
    "mse = mean_squared_error(y_test, y_pred)\n",
    "mae = mean_absolute_error(y_test, y_pred)\n",
    "\n",
    "# Print the evaluation metrics\n",
    "print('Train Score:', train_score)\n",
    "print('Test Score:', test_score)\n",
    "print('Mean Squared Error:', mse)\n",
    "print('Mean Absolute Error:', mae)\n",
    "\n",
    "# Perform cross-validation on the training data to estimate the generalization performance\n",
    "cv_scores = cross_val_score(best_model, X_train, y_train, cv=5)\n",
    "cv_scores_mean = np.mean(cv_scores)\n",
    "print('Cross-Validation Score:', cv_scores_mean)\n",
    "\n",
    "# Plot the feature importances of the best model\n",
    "importances = best_model.feature_importances_\n",
    "features = X.columns\n",
    "indices = np.argsort(importances)[::-1]\n",
    "plt.bar(range(X.shape[1]), importances[indices])\n",
    "plt.xticks(range(X.shape[1]), features[indices], rotation=90)\n",
    "plt.title('Feature Importances')\n",
    "plt.show()"
   ]
  },
  {
   "attachments": {},
   "cell_type": "markdown",
   "metadata": {},
   "source": [
    "# Backtesting\n",
    "This code uses the pandas and numpy libraries to load the feature-engineered data into a DataFrame and perform calculations. It also imports several regression models from the sklearn library and performs a time series cross-validation using the TimeSeriesSplit function from the sklearn.model_selection module. This allows the user to evaluate the models on multiple time windows of historical data and get an estimate of their performance on future, unseen data. The code also uses the cross_val_score function to obtain cross-validation scores for each model."
   ]
  },
  {
   "cell_type": "code",
   "execution_count": 77,
   "metadata": {},
   "outputs": [
    {
     "name": "stdout",
     "output_type": "stream",
     "text": [
      "Mean Squared Error: 0.0001973781310377794\n",
      "Mean Absolute Error: 0.009962441892755133\n"
     ]
    }
   ],
   "source": [
    "# Load the data from the CSV file\n",
    "df = pd.read_csv('stock_data.csv')\n",
    "\n",
    "# Split the data into features (X) and target (y)\n",
    "X = df.drop(['Returns'], axis=1)\n",
    "y = df['Returns']\n",
    "\n",
    "# Split the data into training and testing sets\n",
    "X_train, X_test, y_train, y_test = train_test_split(X, y, test_size=0.2, random_state=42)\n",
    "\n",
    "# Define the model\n",
    "model = LinearRegression()\n",
    "\n",
    "# Train the model on the training data\n",
    "model.fit(X_train, y_train)\n",
    "\n",
    "# Use the trained model to make predictions on the test data\n",
    "y_pred = model.predict(X_test)\n",
    "\n",
    "# Calculate the mean squared error (MSE) and mean absolute error (MAE)\n",
    "mse = mean_squared_error(y_test, y_pred)\n",
    "mae = mean_absolute_error(y_test, y_pred)\n",
    "\n",
    "print('Mean Squared Error:', mse)\n",
    "print('Mean Absolute Error:', mae)"
   ]
  }
 ],
 "metadata": {
  "kernelspec": {
   "display_name": "Python 3",
   "language": "python",
   "name": "python3"
  },
  "language_info": {
   "codemirror_mode": {
    "name": "ipython",
    "version": 3
   },
   "file_extension": ".py",
   "mimetype": "text/x-python",
   "name": "python",
   "nbconvert_exporter": "python",
   "pygments_lexer": "ipython3",
   "version": "3.10.6"
  },
  "orig_nbformat": 4,
  "vscode": {
   "interpreter": {
    "hash": "916dbcbb3f70747c44a77c7bcd40155683ae19c65e1c03b4aa3499c5328201f1"
   }
  }
 },
 "nbformat": 4,
 "nbformat_minor": 2
}
